{
 "cells": [
  {
   "cell_type": "markdown",
   "id": "ed1231f0",
   "metadata": {},
   "source": [
    "<h1 style=\"text-align: center;\">Desafío - Clasificación desde el Machine Learning</h1>\n",
    "\n",
    "- Para realizar este desafío debes haber estudiado previamente todo el material disponible correspondiente a la unidad.\n",
    "- Una vez terminado el desafío, comprime la carpeta que contiene el desarrollo de los requerimientos solicitados y sube el .zip en el LMS.\n",
    "- Desarrollo desafío: Individual.\n",
    "Para la realización del desafío necesitarás apoyarte del archivo <a href=\"https://empieza.desafiolatam.com/cohorts/2091/sections/78289/activities/119118/items/610931\">Apoyo Desafío - Clasificación desde el aprendizaje de máquinas</a>."
   ]
  },
  {
   "cell_type": "markdown",
   "id": "f8009f96",
   "metadata": {},
   "source": [
    "## Descripción\n",
    "En esta sesión trabajaremos con una base de datos sobre clientes morosos de un banco. Dentro de ésta se registran las siguientes observaciones:\n",
    "- `default`: Variable binaria. Registra si el cliente entró en morosidad o no. **(Vector objetivo)**\n",
    "- `income`: Ingreso promedio declarado por el cliente.\n",
    "- `balance`: Total de saldo en la cuenta de crédito.\n",
    "- `student`: Variable binaria. Registra si el cliente es estudiante o no"
   ]
  },
  {
   "cell_type": "markdown",
   "id": "841172ac",
   "metadata": {},
   "source": [
    "### Desafío 1: Preparación del ambiente de trabajo\n",
    "- Importe los módulos básicos para el análisis de datos\n",
    "- Importe `seaborn`.\n",
    "- Importe `statsmodels`.\n",
    "- Importe `LogisticRegression`, `train_test_split`, `StandardScaler`, `classification_report` y `roc_curve` de `sklearn`."
   ]
  },
  {
   "cell_type": "code",
   "execution_count": 1,
   "id": "8be641b2",
   "metadata": {},
   "outputs": [
    {
     "data": {
      "text/html": [
       "<div>\n",
       "<style scoped>\n",
       "    .dataframe tbody tr th:only-of-type {\n",
       "        vertical-align: middle;\n",
       "    }\n",
       "\n",
       "    .dataframe tbody tr th {\n",
       "        vertical-align: top;\n",
       "    }\n",
       "\n",
       "    .dataframe thead th {\n",
       "        text-align: right;\n",
       "    }\n",
       "</style>\n",
       "<table border=\"1\" class=\"dataframe\">\n",
       "  <thead>\n",
       "    <tr style=\"text-align: right;\">\n",
       "      <th></th>\n",
       "      <th>default</th>\n",
       "      <th>student</th>\n",
       "      <th>balance</th>\n",
       "      <th>income</th>\n",
       "    </tr>\n",
       "  </thead>\n",
       "  <tbody>\n",
       "    <tr>\n",
       "      <th>0</th>\n",
       "      <td>No</td>\n",
       "      <td>No</td>\n",
       "      <td>729.526495</td>\n",
       "      <td>44361.625074</td>\n",
       "    </tr>\n",
       "    <tr>\n",
       "      <th>1</th>\n",
       "      <td>No</td>\n",
       "      <td>Yes</td>\n",
       "      <td>817.180407</td>\n",
       "      <td>12106.134700</td>\n",
       "    </tr>\n",
       "    <tr>\n",
       "      <th>2</th>\n",
       "      <td>No</td>\n",
       "      <td>No</td>\n",
       "      <td>1073.549164</td>\n",
       "      <td>31767.138947</td>\n",
       "    </tr>\n",
       "    <tr>\n",
       "      <th>3</th>\n",
       "      <td>No</td>\n",
       "      <td>No</td>\n",
       "      <td>529.250605</td>\n",
       "      <td>35704.493935</td>\n",
       "    </tr>\n",
       "    <tr>\n",
       "      <th>4</th>\n",
       "      <td>No</td>\n",
       "      <td>No</td>\n",
       "      <td>785.655883</td>\n",
       "      <td>38463.495879</td>\n",
       "    </tr>\n",
       "  </tbody>\n",
       "</table>\n",
       "</div>"
      ],
      "text/plain": [
       "  default student      balance        income\n",
       "0      No      No   729.526495  44361.625074\n",
       "1      No     Yes   817.180407  12106.134700\n",
       "2      No      No  1073.549164  31767.138947\n",
       "3      No      No   529.250605  35704.493935\n",
       "4      No      No   785.655883  38463.495879"
      ]
     },
     "execution_count": 1,
     "metadata": {},
     "output_type": "execute_result"
    }
   ],
   "source": [
    "# Utiliza esta celda para importar los módulos solicitados y el set de datos\n",
    "\n",
    "import pandas as pd\n",
    "import statsmodels.api as sm\n",
    "import statsmodels.formula.api as smf\n",
    "import matplotlib.pyplot as plt\n",
    "import seaborn as sns\n",
    "import numpy as np\n",
    "from funciones import plot_ll, plot_ll_logit, crossvalidation_schema\n",
    "\n",
    "df = pd.read_csv(\"default_credit.csv\").drop(columns=\"index\", axis=1)\n",
    "\n",
    "\n",
    "df.head(5)"
   ]
  },
  {
   "cell_type": "markdown",
   "id": "39492cdf",
   "metadata": {},
   "source": [
    "### Desafío 2: Análisis exploratorio\n",
    "Explore las principales relaciones entre las variables. Utilizando los métodos `boxplot` y `lmplot` de `seaborn` implemente los siguientes gráficos. _**tip**_: Puede utilizar el parámetro `hue` en `lmplot` para identificar las observaciones por status.\n",
    "\n",
    "- Un `boxplot` del balance total de las cuentas, segmentado por el status de estudiante."
   ]
  },
  {
   "cell_type": "code",
   "execution_count": 2,
   "id": "31de0de7",
   "metadata": {},
   "outputs": [
    {
     "data": {
      "image/png": "[encoded data removed]",
      "text/plain": [
       "<Figure size 432x288 with 1 Axes>"
      ]
     },
     "metadata": {
      "needs_background": "light"
     },
     "output_type": "display_data"
    }
   ],
   "source": [
    "# Utiliza esta celda para realizar el gráfico solicitado\n",
    "\n",
    "sns.boxplot(x=df[\"student\"], y = df[\"balance\"]);\n",
    "plt.title(\"Boxplot del balance total de las cuentas, segmentado ppr la variable student\");"
   ]
  },
  {
   "cell_type": "markdown",
   "id": "f30e295b",
   "metadata": {},
   "source": [
    "**Comentarios**\n",
    "Se aprecia que que para que para el total de saldo en la cuenta de crédito varia su promedio dependiendo si es o no estudiante.\n",
    "Por otro se aprecia en el gráfico que existen muchos outliers para los dos grupos.\n"
   ]
  },
  {
   "cell_type": "markdown",
   "id": "f609bfcb",
   "metadata": {},
   "source": [
    "- Un `boxplot` del ingreso total de cada cliente, segmentado por el status de estudiante."
   ]
  },
  {
   "cell_type": "code",
   "execution_count": 3,
   "id": "5dfe3926",
   "metadata": {},
   "outputs": [
    {
     "data": {
      "image/png": "[encoded data removed]",
      "text/plain": [
       "<Figure size 432x288 with 1 Axes>"
      ]
     },
     "metadata": {
      "needs_background": "light"
     },
     "output_type": "display_data"
    }
   ],
   "source": [
    "# Utiliza esta celda para realizar el gráfico solicitado\n",
    "\n",
    "sns.boxplot(x=df[\"student\"], y = df[\"income\"]);\n",
    "plt.title(\"Boxplot del balance total de las cuentas, segmentado ppr la variable student\");"
   ]
  },
  {
   "cell_type": "markdown",
   "id": "b46ba104",
   "metadata": {},
   "source": [
    "**Comentarios**\n",
    "Se aprecia que en promedio el ingreso promedio por cliente es bastante mayor en el caso cuando no es estudiante.\n",
    "Además se aprecia que dispersión de datos es menor en el grupo que si es estudiante respecto a los ingresos promedios."
   ]
  },
  {
   "cell_type": "markdown",
   "id": "21ef67b9",
   "metadata": {},
   "source": [
    "- Un `boxplot` del balance total de las cuentas, segmentado por el status de default."
   ]
  },
  {
   "cell_type": "code",
   "execution_count": 4,
   "id": "860915ba",
   "metadata": {},
   "outputs": [
    {
     "data": {
      "image/png": "[encoded data removed]",
      "text/plain": [
       "<Figure size 432x288 with 1 Axes>"
      ]
     },
     "metadata": {
      "needs_background": "light"
     },
     "output_type": "display_data"
    }
   ],
   "source": [
    "# Utiliza esta celda para realizar el gráfico solicitado\n",
    "\n",
    "sns.boxplot(x=df[\"default\"], y = df[\"balance\"]);\n",
    "plt.title(\"Total saldo en la cuenta de crédito, segmentado por default\");"
   ]
  },
  {
   "cell_type": "markdown",
   "id": "7b0cc61c",
   "metadata": {},
   "source": [
    "**Comentarios**\n",
    "Se aprecia en el gráfico que los clientes que entraron en morosidad en promedio tienen un saldo total en la cuenta de crédito mayor a los que no entraron en mora"
   ]
  },
  {
   "cell_type": "markdown",
   "id": "1dac78b6",
   "metadata": {},
   "source": [
    "- Un `boxplot` del ingreso total de cada cliente, segmentado por el status de default."
   ]
  },
  {
   "cell_type": "code",
   "execution_count": 5,
   "id": "8f54ef2a",
   "metadata": {},
   "outputs": [
    {
     "data": {
      "image/png": "[encoded data removed]",
      "text/plain": [
       "<Figure size 432x288 with 1 Axes>"
      ]
     },
     "metadata": {
      "needs_background": "light"
     },
     "output_type": "display_data"
    }
   ],
   "source": [
    "# Utiliza esta celda para realizar el gráfico solicitado\n",
    "\n",
    "sns.boxplot(x=df[\"default\"], y = df[\"income\"]);\n",
    "plt.title(\"Ingreso total del cliente segmentado por morosidad\");"
   ]
  },
  {
   "cell_type": "markdown",
   "id": "7ec78b82",
   "metadata": {},
   "source": [
    "**Comentarios**\n",
    "Se aprecia que el 50% de los datos es mayor en el grupo que no entro en morosidad."
   ]
  },
  {
   "cell_type": "markdown",
   "id": "1cc8326b",
   "metadata": {},
   "source": [
    "- Un diagrama de dispersión entre balance e income, segmentado por el status de estudiante."
   ]
  },
  {
   "cell_type": "code",
   "execution_count": 6,
   "id": "d37b61aa",
   "metadata": {},
   "outputs": [
    {
     "data": {
      "text/plain": [
       "Text(0.5, 1.0, 'Diagrama de dispersión entre balance e income segmentado por ')"
      ]
     },
     "execution_count": 6,
     "metadata": {},
     "output_type": "execute_result"
    },
    {
     "data": {
      "image/png": "[encoded data removed]",
      "text/plain": [
       "<Figure size 412x360 with 1 Axes>"
      ]
     },
     "metadata": {
      "needs_background": "light"
     },
     "output_type": "display_data"
    }
   ],
   "source": [
    "# Utiliza esta celda para realizar el gráfico solicitado\n",
    "\n",
    "sns.lmplot(x=\"balance\", y=\"income\", data = df, hue=\"student\")\n",
    "plt.title(\"Diagrama de dispersión entre balance e income segmentado por \")"
   ]
  },
  {
   "cell_type": "markdown",
   "id": "2b0a149c",
   "metadata": {},
   "source": [
    "**Comentarios**"
   ]
  },
  {
   "cell_type": "markdown",
   "id": "eb8b73ef",
   "metadata": {},
   "source": [
    "- Un diagrama de dispersión entre balance e income, segmentado por el status de default."
   ]
  },
  {
   "cell_type": "code",
   "execution_count": 7,
   "id": "4701a359",
   "metadata": {},
   "outputs": [
    {
     "data": {
      "text/plain": [
       "Text(0.5, 1.0, 'Diagrama de dispersión entre balance e income segmentado por ')"
      ]
     },
     "execution_count": 7,
     "metadata": {},
     "output_type": "execute_result"
    },
    {
     "data": {
      "image/png": "[encoded data removed]",
      "text/plain": [
       "<Figure size 412x360 with 1 Axes>"
      ]
     },
     "metadata": {
      "needs_background": "light"
     },
     "output_type": "display_data"
    }
   ],
   "source": [
    "# Utiliza esta celda para realizar el gráfico solicitado\n",
    "\n",
    "sns.lmplot(x=\"balance\", y=\"income\", data = df, hue=\"default\")\n",
    "plt.title(\"Diagrama de dispersión entre balance e income segmentado por \")"
   ]
  },
  {
   "cell_type": "markdown",
   "id": "76c19687",
   "metadata": {},
   "source": [
    "**Comentarios**"
   ]
  },
  {
   "cell_type": "markdown",
   "id": "a271c3a7",
   "metadata": {},
   "source": [
    "### Desafío 3: Modelación econométrica\n",
    "- Recodifique las variables `student` y `default` para que adquieran atributos numéricos."
   ]
  },
  {
   "cell_type": "code",
   "execution_count": 8,
   "id": "24d5ea9d",
   "metadata": {},
   "outputs": [
    {
     "data": {
      "text/plain": [
       "No     7056\n",
       "Yes    2944\n",
       "Name: student, dtype: int64"
      ]
     },
     "execution_count": 8,
     "metadata": {},
     "output_type": "execute_result"
    }
   ],
   "source": [
    "df[\"student\"].value_counts()\n"
   ]
  },
  {
   "cell_type": "code",
   "execution_count": 9,
   "id": "a7c55bfe",
   "metadata": {},
   "outputs": [
    {
     "data": {
      "text/plain": [
       "0    7056\n",
       "1    2944\n",
       "Name: student, dtype: int64"
      ]
     },
     "execution_count": 9,
     "metadata": {},
     "output_type": "execute_result"
    }
   ],
   "source": [
    "# Utiliza esta celda para realizar las codificaciones solicitadas. Puedes usar LabelEncoder.\n",
    "\n",
    "df[\"student\"] = np.where(df[\"student\"] == \"Yes\", 1, 0)\n",
    "\n",
    "df[\"student\"].value_counts()"
   ]
  },
  {
   "cell_type": "code",
   "execution_count": 10,
   "id": "5e1d52cd",
   "metadata": {},
   "outputs": [
    {
     "data": {
      "text/plain": [
       "No     9667\n",
       "Yes     333\n",
       "Name: default, dtype: int64"
      ]
     },
     "execution_count": 10,
     "metadata": {},
     "output_type": "execute_result"
    }
   ],
   "source": [
    "df[\"default\"].value_counts()"
   ]
  },
  {
   "cell_type": "code",
   "execution_count": 11,
   "id": "688b1f6d",
   "metadata": {},
   "outputs": [
    {
     "data": {
      "text/plain": [
       "0    9667\n",
       "1     333\n",
       "Name: default, dtype: int64"
      ]
     },
     "execution_count": 11,
     "metadata": {},
     "output_type": "execute_result"
    }
   ],
   "source": [
    "df[\"default\"] = np.where(df[\"default\"] == \"Yes\", 1, 0)\n",
    "\n",
    "df[\"default\"].value_counts()"
   ]
  },
  {
   "cell_type": "code",
   "execution_count": 12,
   "id": "58184000",
   "metadata": {},
   "outputs": [
    {
     "data": {
      "text/html": [
       "<div>\n",
       "<style scoped>\n",
       "    .dataframe tbody tr th:only-of-type {\n",
       "        vertical-align: middle;\n",
       "    }\n",
       "\n",
       "    .dataframe tbody tr th {\n",
       "        vertical-align: top;\n",
       "    }\n",
       "\n",
       "    .dataframe thead th {\n",
       "        text-align: right;\n",
       "    }\n",
       "</style>\n",
       "<table border=\"1\" class=\"dataframe\">\n",
       "  <thead>\n",
       "    <tr style=\"text-align: right;\">\n",
       "      <th></th>\n",
       "      <th>default</th>\n",
       "      <th>student</th>\n",
       "      <th>balance</th>\n",
       "      <th>income</th>\n",
       "    </tr>\n",
       "  </thead>\n",
       "  <tbody>\n",
       "    <tr>\n",
       "      <th>0</th>\n",
       "      <td>0</td>\n",
       "      <td>0</td>\n",
       "      <td>729.526495</td>\n",
       "      <td>44361.625074</td>\n",
       "    </tr>\n",
       "    <tr>\n",
       "      <th>1</th>\n",
       "      <td>0</td>\n",
       "      <td>1</td>\n",
       "      <td>817.180407</td>\n",
       "      <td>12106.134700</td>\n",
       "    </tr>\n",
       "    <tr>\n",
       "      <th>2</th>\n",
       "      <td>0</td>\n",
       "      <td>0</td>\n",
       "      <td>1073.549164</td>\n",
       "      <td>31767.138947</td>\n",
       "    </tr>\n",
       "    <tr>\n",
       "      <th>3</th>\n",
       "      <td>0</td>\n",
       "      <td>0</td>\n",
       "      <td>529.250605</td>\n",
       "      <td>35704.493935</td>\n",
       "    </tr>\n",
       "    <tr>\n",
       "      <th>4</th>\n",
       "      <td>0</td>\n",
       "      <td>0</td>\n",
       "      <td>785.655883</td>\n",
       "      <td>38463.495879</td>\n",
       "    </tr>\n",
       "  </tbody>\n",
       "</table>\n",
       "</div>"
      ],
      "text/plain": [
       "   default  student      balance        income\n",
       "0        0        0   729.526495  44361.625074\n",
       "1        0        1   817.180407  12106.134700\n",
       "2        0        0  1073.549164  31767.138947\n",
       "3        0        0   529.250605  35704.493935\n",
       "4        0        0   785.655883  38463.495879"
      ]
     },
     "execution_count": 12,
     "metadata": {},
     "output_type": "execute_result"
    }
   ],
   "source": [
    "df.head()"
   ]
  },
  {
   "cell_type": "markdown",
   "id": "4c99d355",
   "metadata": {},
   "source": [
    "- Implemente el siguiente modelo econométrico:\n",
    "$$\n",
    "\\log\\left(\\frac{p(\\text{default}=1)}{1-p(\\text{default}=1)}\\right)_i = \\beta_0 + \\beta_{balance} \\cdot \\text{balance}_i + \\beta_{income} \\cdot \\text{income}_i + \\beta_{student} \\cdot \\text{student}_i\n",
    "$$"
   ]
  },
  {
   "cell_type": "code",
   "execution_count": 13,
   "id": "713b3baf",
   "metadata": {},
   "outputs": [
    {
     "name": "stdout",
     "output_type": "stream",
     "text": [
      "Optimization terminated successfully.\n",
      "         Current function value: 0.078577\n",
      "         Iterations 10\n"
     ]
    }
   ],
   "source": [
    "# Utiliza esta celda para entrenar el modelo solicitado\n",
    "\n",
    "logit_model_default = smf.logit('default ~ student + balance + income', df).fit()"
   ]
  },
  {
   "cell_type": "code",
   "execution_count": 14,
   "id": "f87f88c4",
   "metadata": {},
   "outputs": [
    {
     "data": {
      "text/html": [
       "<table class=\"simpletable\">\n",
       "<tr>\n",
       "        <td>Model:</td>              <td>Logit</td>      <td>Pseudo R-squared:</td>    <td>0.462</td>   \n",
       "</tr>\n",
       "<tr>\n",
       "  <td>Dependent Variable:</td>      <td>default</td>           <td>AIC:</td>         <td>1579.5448</td> \n",
       "</tr>\n",
       "<tr>\n",
       "         <td>Date:</td>        <td>2022-08-16 21:09</td>       <td>BIC:</td>         <td>1608.3862</td> \n",
       "</tr>\n",
       "<tr>\n",
       "   <td>No. Observations:</td>        <td>10000</td>       <td>Log-Likelihood:</td>    <td>-785.77</td>  \n",
       "</tr>\n",
       "<tr>\n",
       "       <td>Df Model:</td>              <td>3</td>            <td>LL-Null:</td>        <td>-1460.3</td>  \n",
       "</tr>\n",
       "<tr>\n",
       "     <td>Df Residuals:</td>          <td>9996</td>         <td>LLR p-value:</td>    <td>3.2575e-292</td>\n",
       "</tr>\n",
       "<tr>\n",
       "      <td>Converged:</td>           <td>1.0000</td>           <td>Scale:</td>         <td>1.0000</td>   \n",
       "</tr>\n",
       "<tr>\n",
       "    <td>No. Iterations:</td>        <td>10.0000</td>             <td></td>               <td></td>      \n",
       "</tr>\n",
       "</table>\n",
       "<table class=\"simpletable\">\n",
       "<tr>\n",
       "      <td></td>        <th>Coef.</th>  <th>Std.Err.</th>     <th>z</th>     <th>P>|z|</th>  <th>[0.025</th>  <th>0.975]</th> \n",
       "</tr>\n",
       "<tr>\n",
       "  <th>Intercept</th> <td>-10.8690</td>  <td>0.4923</td>  <td>-22.0793</td> <td>0.0000</td> <td>-11.8339</td> <td>-9.9042</td>\n",
       "</tr>\n",
       "<tr>\n",
       "  <th>student</th>    <td>-0.6468</td>  <td>0.2363</td>   <td>-2.7376</td> <td>0.0062</td>  <td>-1.1098</td> <td>-0.1837</td>\n",
       "</tr>\n",
       "<tr>\n",
       "  <th>balance</th>    <td>0.0057</td>   <td>0.0002</td>   <td>24.7365</td> <td>0.0000</td>  <td>0.0053</td>  <td>0.0062</td> \n",
       "</tr>\n",
       "<tr>\n",
       "  <th>income</th>     <td>0.0000</td>   <td>0.0000</td>   <td>0.3698</td>  <td>0.7115</td>  <td>-0.0000</td> <td>0.0000</td> \n",
       "</tr>\n",
       "</table>"
      ],
      "text/plain": [
       "<class 'statsmodels.iolib.summary2.Summary'>\n",
       "\"\"\"\n",
       "                          Results: Logit\n",
       "==================================================================\n",
       "Model:              Logit            Pseudo R-squared: 0.462      \n",
       "Dependent Variable: default          AIC:              1579.5448  \n",
       "Date:               2022-08-16 21:09 BIC:              1608.3862  \n",
       "No. Observations:   10000            Log-Likelihood:   -785.77    \n",
       "Df Model:           3                LL-Null:          -1460.3    \n",
       "Df Residuals:       9996             LLR p-value:      3.2575e-292\n",
       "Converged:          1.0000           Scale:            1.0000     \n",
       "No. Iterations:     10.0000                                       \n",
       "-------------------------------------------------------------------\n",
       "             Coef.    Std.Err.     z      P>|z|    [0.025    0.975]\n",
       "-------------------------------------------------------------------\n",
       "Intercept   -10.8690    0.4923  -22.0793  0.0000  -11.8339  -9.9042\n",
       "student      -0.6468    0.2363   -2.7376  0.0062   -1.1098  -0.1837\n",
       "balance       0.0057    0.0002   24.7365  0.0000    0.0053   0.0062\n",
       "income        0.0000    0.0000    0.3698  0.7115   -0.0000   0.0000\n",
       "==================================================================\n",
       "\n",
       "\"\"\""
      ]
     },
     "execution_count": 14,
     "metadata": {},
     "output_type": "execute_result"
    }
   ],
   "source": [
    "logit_model_default.summary2()"
   ]
  },
  {
   "cell_type": "code",
   "execution_count": 15,
   "id": "f2f5d3c9",
   "metadata": {},
   "outputs": [
    {
     "data": {
      "text/html": [
       "<div>\n",
       "<style scoped>\n",
       "    .dataframe tbody tr th:only-of-type {\n",
       "        vertical-align: middle;\n",
       "    }\n",
       "\n",
       "    .dataframe tbody tr th {\n",
       "        vertical-align: top;\n",
       "    }\n",
       "\n",
       "    .dataframe thead th {\n",
       "        text-align: right;\n",
       "    }\n",
       "</style>\n",
       "<table border=\"1\" class=\"dataframe\">\n",
       "  <thead>\n",
       "    <tr style=\"text-align: right;\">\n",
       "      <th></th>\n",
       "      <th>Coef.</th>\n",
       "      <th>Std.Err.</th>\n",
       "      <th>z</th>\n",
       "      <th>P&gt;|z|</th>\n",
       "      <th>[0.025</th>\n",
       "      <th>0.975]</th>\n",
       "    </tr>\n",
       "  </thead>\n",
       "  <tbody>\n",
       "    <tr>\n",
       "      <th>Intercept</th>\n",
       "      <td>-10.869045</td>\n",
       "      <td>0.492273</td>\n",
       "      <td>-22.079320</td>\n",
       "      <td>4.995499e-108</td>\n",
       "      <td>-11.833882</td>\n",
       "      <td>-9.904209</td>\n",
       "    </tr>\n",
       "    <tr>\n",
       "      <th>student</th>\n",
       "      <td>-0.646776</td>\n",
       "      <td>0.236257</td>\n",
       "      <td>-2.737595</td>\n",
       "      <td>6.189022e-03</td>\n",
       "      <td>-1.109831</td>\n",
       "      <td>-0.183721</td>\n",
       "    </tr>\n",
       "    <tr>\n",
       "      <th>balance</th>\n",
       "      <td>0.005737</td>\n",
       "      <td>0.000232</td>\n",
       "      <td>24.736506</td>\n",
       "      <td>4.331521e-135</td>\n",
       "      <td>0.005282</td>\n",
       "      <td>0.006191</td>\n",
       "    </tr>\n",
       "    <tr>\n",
       "      <th>income</th>\n",
       "      <td>0.000003</td>\n",
       "      <td>0.000008</td>\n",
       "      <td>0.369808</td>\n",
       "      <td>7.115254e-01</td>\n",
       "      <td>-0.000013</td>\n",
       "      <td>0.000019</td>\n",
       "    </tr>\n",
       "  </tbody>\n",
       "</table>\n",
       "</div>"
      ],
      "text/plain": [
       "               Coef.  Std.Err.          z          P>|z|     [0.025    0.975]\n",
       "Intercept -10.869045  0.492273 -22.079320  4.995499e-108 -11.833882 -9.904209\n",
       "student    -0.646776  0.236257  -2.737595   6.189022e-03  -1.109831 -0.183721\n",
       "balance     0.005737  0.000232  24.736506  4.331521e-135   0.005282  0.006191\n",
       "income      0.000003  0.000008   0.369808   7.115254e-01  -0.000013  0.000019"
      ]
     },
     "execution_count": 15,
     "metadata": {},
     "output_type": "execute_result"
    }
   ],
   "source": [
    "coefs = logit_model_default.summary2().tables[1]\n",
    "\n",
    "coefs"
   ]
  },
  {
   "cell_type": "markdown",
   "id": "a7afba48",
   "metadata": {},
   "source": [
    "- A partir de este modelo, depúrelo y mantenga las principales características. Ejecute de nuevo el modelo y comente brevemente sobre el comportamiento de los atributos."
   ]
  },
  {
   "cell_type": "code",
   "execution_count": 16,
   "id": "341c40fe",
   "metadata": {},
   "outputs": [
    {
     "data": {
      "text/html": [
       "<div>\n",
       "<style scoped>\n",
       "    .dataframe tbody tr th:only-of-type {\n",
       "        vertical-align: middle;\n",
       "    }\n",
       "\n",
       "    .dataframe tbody tr th {\n",
       "        vertical-align: top;\n",
       "    }\n",
       "\n",
       "    .dataframe thead th {\n",
       "        text-align: right;\n",
       "    }\n",
       "</style>\n",
       "<table border=\"1\" class=\"dataframe\">\n",
       "  <thead>\n",
       "    <tr style=\"text-align: right;\">\n",
       "      <th></th>\n",
       "      <th>Coef.</th>\n",
       "      <th>Std.Err.</th>\n",
       "      <th>z</th>\n",
       "      <th>P&gt;|z|</th>\n",
       "      <th>[0.025</th>\n",
       "      <th>0.975]</th>\n",
       "    </tr>\n",
       "  </thead>\n",
       "  <tbody>\n",
       "    <tr>\n",
       "      <th>Intercept</th>\n",
       "      <td>-10.869045</td>\n",
       "      <td>0.492273</td>\n",
       "      <td>-22.079320</td>\n",
       "      <td>4.995499e-108</td>\n",
       "      <td>-11.833882</td>\n",
       "      <td>-9.904209</td>\n",
       "    </tr>\n",
       "    <tr>\n",
       "      <th>student</th>\n",
       "      <td>-0.646776</td>\n",
       "      <td>0.236257</td>\n",
       "      <td>-2.737595</td>\n",
       "      <td>6.189022e-03</td>\n",
       "      <td>-1.109831</td>\n",
       "      <td>-0.183721</td>\n",
       "    </tr>\n",
       "    <tr>\n",
       "      <th>balance</th>\n",
       "      <td>0.005737</td>\n",
       "      <td>0.000232</td>\n",
       "      <td>24.736506</td>\n",
       "      <td>4.331521e-135</td>\n",
       "      <td>0.005282</td>\n",
       "      <td>0.006191</td>\n",
       "    </tr>\n",
       "  </tbody>\n",
       "</table>\n",
       "</div>"
      ],
      "text/plain": [
       "               Coef.  Std.Err.          z          P>|z|     [0.025    0.975]\n",
       "Intercept -10.869045  0.492273 -22.079320  4.995499e-108 -11.833882 -9.904209\n",
       "student    -0.646776  0.236257  -2.737595   6.189022e-03  -1.109831 -0.183721\n",
       "balance     0.005737  0.000232  24.736506  4.331521e-135   0.005282  0.006191"
      ]
     },
     "execution_count": 16,
     "metadata": {},
     "output_type": "execute_result"
    }
   ],
   "source": [
    "# Utiliza esta celda para mostrar los coeficientes sifnificativos al 95% de confianza\n",
    "\n",
    "coefs[coefs[\"P>|z|\"] < 0.05]"
   ]
  },
  {
   "cell_type": "code",
   "execution_count": 17,
   "id": "70d3fdad",
   "metadata": {},
   "outputs": [
    {
     "name": "stdout",
     "output_type": "stream",
     "text": [
      "Optimization terminated successfully.\n",
      "         Current function value: 0.078584\n",
      "         Iterations 10\n"
     ]
    }
   ],
   "source": [
    "# Utiliza esta celda para entrenar el modelo depurado\n",
    "\n",
    "logit_model_default_depurado = smf.logit('default ~ student + balance', df).fit()"
   ]
  },
  {
   "cell_type": "code",
   "execution_count": 18,
   "id": "6e9a0f1d",
   "metadata": {},
   "outputs": [
    {
     "data": {
      "text/html": [
       "<table class=\"simpletable\">\n",
       "<tr>\n",
       "        <td>Model:</td>              <td>Logit</td>      <td>Pseudo R-squared:</td>    <td>0.462</td>   \n",
       "</tr>\n",
       "<tr>\n",
       "  <td>Dependent Variable:</td>      <td>default</td>           <td>AIC:</td>         <td>1577.6816</td> \n",
       "</tr>\n",
       "<tr>\n",
       "         <td>Date:</td>        <td>2022-08-16 21:09</td>       <td>BIC:</td>         <td>1599.3126</td> \n",
       "</tr>\n",
       "<tr>\n",
       "   <td>No. Observations:</td>        <td>10000</td>       <td>Log-Likelihood:</td>    <td>-785.84</td>  \n",
       "</tr>\n",
       "<tr>\n",
       "       <td>Df Model:</td>              <td>2</td>            <td>LL-Null:</td>        <td>-1460.3</td>  \n",
       "</tr>\n",
       "<tr>\n",
       "     <td>Df Residuals:</td>          <td>9997</td>         <td>LLR p-value:</td>    <td>1.1893e-293</td>\n",
       "</tr>\n",
       "<tr>\n",
       "      <td>Converged:</td>           <td>1.0000</td>           <td>Scale:</td>         <td>1.0000</td>   \n",
       "</tr>\n",
       "<tr>\n",
       "    <td>No. Iterations:</td>        <td>10.0000</td>             <td></td>               <td></td>      \n",
       "</tr>\n",
       "</table>\n",
       "<table class=\"simpletable\">\n",
       "<tr>\n",
       "      <td></td>        <th>Coef.</th>  <th>Std.Err.</th>     <th>z</th>     <th>P>|z|</th>  <th>[0.025</th>   <th>0.975]</th> \n",
       "</tr>\n",
       "<tr>\n",
       "  <th>Intercept</th> <td>-10.7495</td>  <td>0.3692</td>  <td>-29.1149</td> <td>0.0000</td> <td>-11.4731</td> <td>-10.0259</td>\n",
       "</tr>\n",
       "<tr>\n",
       "  <th>student</th>    <td>-0.7149</td>  <td>0.1475</td>   <td>-4.8459</td> <td>0.0000</td>  <td>-1.0040</td>  <td>-0.4257</td>\n",
       "</tr>\n",
       "<tr>\n",
       "  <th>balance</th>    <td>0.0057</td>   <td>0.0002</td>   <td>24.7485</td> <td>0.0000</td>  <td>0.0053</td>   <td>0.0062</td> \n",
       "</tr>\n",
       "</table>"
      ],
      "text/plain": [
       "<class 'statsmodels.iolib.summary2.Summary'>\n",
       "\"\"\"\n",
       "                          Results: Logit\n",
       "==================================================================\n",
       "Model:              Logit            Pseudo R-squared: 0.462      \n",
       "Dependent Variable: default          AIC:              1577.6816  \n",
       "Date:               2022-08-16 21:09 BIC:              1599.3126  \n",
       "No. Observations:   10000            Log-Likelihood:   -785.84    \n",
       "Df Model:           2                LL-Null:          -1460.3    \n",
       "Df Residuals:       9997             LLR p-value:      1.1893e-293\n",
       "Converged:          1.0000           Scale:            1.0000     \n",
       "No. Iterations:     10.0000                                       \n",
       "-------------------------------------------------------------------\n",
       "            Coef.    Std.Err.     z      P>|z|    [0.025    0.975] \n",
       "-------------------------------------------------------------------\n",
       "Intercept  -10.7495    0.3692  -29.1149  0.0000  -11.4731  -10.0259\n",
       "student     -0.7149    0.1475   -4.8459  0.0000   -1.0040   -0.4257\n",
       "balance      0.0057    0.0002   24.7485  0.0000    0.0053    0.0062\n",
       "==================================================================\n",
       "\n",
       "\"\"\""
      ]
     },
     "execution_count": 18,
     "metadata": {},
     "output_type": "execute_result"
    }
   ],
   "source": [
    "# Utiliza esta celda para mostrar los coeficientes significativos que influyen positivamente en el modelo depurado\n",
    "\n",
    "logit_model_default_depurado.summary2()"
   ]
  },
  {
   "cell_type": "markdown",
   "id": "4746edf9",
   "metadata": {},
   "source": [
    "**Comentarios**\n",
    "\n",
    "Al comparar ambos modelos se puede observar que en el modelo depurado es minimamente inferior en el valor de Log-Likelihood,\n",
    "pero cabe destacar que a pesar de esa diferencia minima cuenta con una variable menos que el modelo saturado o con todas las variables."
   ]
  },
  {
   "cell_type": "markdown",
   "id": "0c3086cb",
   "metadata": {},
   "source": [
    "### Desafío 4: Entrenar\n",
    "A partir del modelo depurado, genere un modelo _predictivo_ con las siguientes características:\n",
    "\n",
    "- Genera subconjuntos de entrenamiento y pruebas, separando el 33% de la muestra en el conjunto de pruebas"
   ]
  },
  {
   "cell_type": "code",
   "execution_count": 19,
   "id": "ae7406f6",
   "metadata": {},
   "outputs": [
    {
     "data": {
      "text/html": [
       "<div>\n",
       "<style scoped>\n",
       "    .dataframe tbody tr th:only-of-type {\n",
       "        vertical-align: middle;\n",
       "    }\n",
       "\n",
       "    .dataframe tbody tr th {\n",
       "        vertical-align: top;\n",
       "    }\n",
       "\n",
       "    .dataframe thead th {\n",
       "        text-align: right;\n",
       "    }\n",
       "</style>\n",
       "<table border=\"1\" class=\"dataframe\">\n",
       "  <thead>\n",
       "    <tr style=\"text-align: right;\">\n",
       "      <th></th>\n",
       "      <th>default</th>\n",
       "      <th>student</th>\n",
       "      <th>balance</th>\n",
       "      <th>income</th>\n",
       "    </tr>\n",
       "  </thead>\n",
       "  <tbody>\n",
       "    <tr>\n",
       "      <th>0</th>\n",
       "      <td>0</td>\n",
       "      <td>0</td>\n",
       "      <td>729.526495</td>\n",
       "      <td>44361.625074</td>\n",
       "    </tr>\n",
       "    <tr>\n",
       "      <th>1</th>\n",
       "      <td>0</td>\n",
       "      <td>1</td>\n",
       "      <td>817.180407</td>\n",
       "      <td>12106.134700</td>\n",
       "    </tr>\n",
       "    <tr>\n",
       "      <th>2</th>\n",
       "      <td>0</td>\n",
       "      <td>0</td>\n",
       "      <td>1073.549164</td>\n",
       "      <td>31767.138947</td>\n",
       "    </tr>\n",
       "    <tr>\n",
       "      <th>3</th>\n",
       "      <td>0</td>\n",
       "      <td>0</td>\n",
       "      <td>529.250605</td>\n",
       "      <td>35704.493935</td>\n",
       "    </tr>\n",
       "    <tr>\n",
       "      <th>4</th>\n",
       "      <td>0</td>\n",
       "      <td>0</td>\n",
       "      <td>785.655883</td>\n",
       "      <td>38463.495879</td>\n",
       "    </tr>\n",
       "  </tbody>\n",
       "</table>\n",
       "</div>"
      ],
      "text/plain": [
       "   default  student      balance        income\n",
       "0        0        0   729.526495  44361.625074\n",
       "1        0        1   817.180407  12106.134700\n",
       "2        0        0  1073.549164  31767.138947\n",
       "3        0        0   529.250605  35704.493935\n",
       "4        0        0   785.655883  38463.495879"
      ]
     },
     "execution_count": 19,
     "metadata": {},
     "output_type": "execute_result"
    }
   ],
   "source": [
    "df.head()"
   ]
  },
  {
   "cell_type": "code",
   "execution_count": 20,
   "id": "f8bffa9b",
   "metadata": {},
   "outputs": [],
   "source": [
    "# Utiliza esta celda para generar los subconjuntos de train y test\n",
    "\n",
    "from sklearn.model_selection import train_test_split\n",
    "                                                          #X                          #y\n",
    "X_train, X_test, y_train, y_test = train_test_split(df.loc[:,\"student\":\"balance\"], df[\"default\"], test_size=0.33, random_state=2)\n"
   ]
  },
  {
   "cell_type": "markdown",
   "id": "e2ba2585",
   "metadata": {},
   "source": [
    "- Estandarice las matrices de atributos de entrenamiento y pruebas usando `StandardScaler()` ajustado solo sobre el conjunto de entrenamiento."
   ]
  },
  {
   "cell_type": "code",
   "execution_count": 21,
   "id": "79195d8e",
   "metadata": {},
   "outputs": [],
   "source": [
    "# Utiliza esta celda para estandarizar la matriz de atributos de entrenamiento y aplicar dicha estandarización tanto en train como test\n",
    "\n",
    "from sklearn.preprocessing import StandardScaler\n",
    "\n",
    "X_train_std = StandardScaler().fit_transform(X_train)\n",
    "\n",
    "X_test_std = StandardScaler().fit_transform(X_test)\n"
   ]
  },
  {
   "cell_type": "markdown",
   "id": "064f8c55",
   "metadata": {},
   "source": [
    "- Implemente el modelo sin alterar los hiper parámetros."
   ]
  },
  {
   "cell_type": "code",
   "execution_count": 22,
   "id": "715ccc12",
   "metadata": {},
   "outputs": [],
   "source": [
    "# Utiliza esta celda para generar el modelo predictivo de LogisticRegression utilizando los datos de entrenamiento\n",
    "\n",
    "from sklearn.linear_model import LogisticRegression\n",
    "\n",
    "model_default = LogisticRegression().fit(X_train_std, y_train)"
   ]
  },
  {
   "cell_type": "code",
   "execution_count": 23,
   "id": "db198e19",
   "metadata": {},
   "outputs": [
    {
     "data": {
      "text/plain": [
       "array([[-0.363741  ,  2.77361248]])"
      ]
     },
     "execution_count": 23,
     "metadata": {},
     "output_type": "execute_result"
    }
   ],
   "source": [
    "model_default.coef_"
   ]
  },
  {
   "cell_type": "code",
   "execution_count": 24,
   "id": "0b40a753",
   "metadata": {},
   "outputs": [
    {
     "data": {
      "text/plain": [
       "array([-6.0240722])"
      ]
     },
     "execution_count": 24,
     "metadata": {},
     "output_type": "execute_result"
    }
   ],
   "source": [
    "model_default.intercept_"
   ]
  },
  {
   "cell_type": "markdown",
   "id": "63ae1e4f",
   "metadata": {},
   "source": [
    "- Genere la predicción de las clases y de la probabilidad."
   ]
  },
  {
   "cell_type": "code",
   "execution_count": 31,
   "id": "a0cabbd2",
   "metadata": {},
   "outputs": [
    {
     "data": {
      "text/plain": [
       "array([0, 0, 0, 0, 0, 0, 0, 0, 0, 0])"
      ]
     },
     "execution_count": 31,
     "metadata": {},
     "output_type": "execute_result"
    }
   ],
   "source": [
    "# Utiliza esta celda para generar y almacenar predicciones de clase y de probabilidad\n",
    "\n",
    "yhat = model_default.predict(X_test_std) \n",
    "yhat[:10]"
   ]
  },
  {
   "cell_type": "code",
   "execution_count": 34,
   "id": "0b778960",
   "metadata": {},
   "outputs": [
    {
     "data": {
      "text/plain": [
       "array([1.23166289e-03, 1.42807258e-03, 7.70311268e-04, 2.89756227e-03,\n",
       "       4.89660738e-01, 1.09303924e-03, 2.27048509e-03, 2.56575056e-05,\n",
       "       4.62036971e-03, 1.18916058e-03])"
      ]
     },
     "execution_count": 34,
     "metadata": {},
     "output_type": "execute_result"
    }
   ],
   "source": [
    "yhat_prob = model_default.predict_proba(X_test_std)[:,1] #Nos indica la probabilidad entre 0 y 1\n",
    "yhat_prob[:10]"
   ]
  },
  {
   "cell_type": "code",
   "execution_count": 36,
   "id": "a61c8694",
   "metadata": {},
   "outputs": [
    {
     "name": "stdout",
     "output_type": "stream",
     "text": [
      "[[3197   17]\n",
      " [  61   25]]\n"
     ]
    }
   ],
   "source": [
    "#Matriz de confusión permite observar las predicciones predichas\n",
    "\n",
    "from sklearn.metrics import confusion_matrix\n",
    "\n",
    "print(confusion_matrix(y_test, yhat))\n",
    "\n"
   ]
  },
  {
   "cell_type": "markdown",
   "id": "c096e9a2",
   "metadata": {},
   "source": [
    "- Reporte las métricas de precisión, recall y f1 para ambas clases."
   ]
  },
  {
   "cell_type": "code",
   "execution_count": 41,
   "id": "3335970d",
   "metadata": {},
   "outputs": [
    {
     "data": {
      "text/plain": [
       "0.9763636363636363"
      ]
     },
     "execution_count": 41,
     "metadata": {},
     "output_type": "execute_result"
    }
   ],
   "source": [
    "#con accuracy_score obtendremos la exactitud de obtener casos predichos correctamente\n",
    "\n",
    "#Hay que tener en consideración que las clases de default esta desbalanceado\n",
    "\n",
    "from sklearn.metrics import accuracy_score\n",
    "\n",
    "m1_acc = accuracy_score(y_test, yhat)\n",
    "\n",
    "m1_acc"
   ]
  },
  {
   "cell_type": "code",
   "execution_count": 43,
   "id": "c95133a8",
   "metadata": {},
   "outputs": [
    {
     "data": {
      "text/plain": [
       "0.29069767441860467"
      ]
     },
     "execution_count": 43,
     "metadata": {},
     "output_type": "execute_result"
    }
   ],
   "source": [
    "from sklearn.metrics import recall_score\n",
    "\n",
    "recall_model = recall_score(y_test, yhat)\n",
    "\n",
    "recall_model"
   ]
  },
  {
   "cell_type": "code",
   "execution_count": 45,
   "id": "2b84142a",
   "metadata": {},
   "outputs": [
    {
     "data": {
      "text/plain": [
       "0.39062500000000006"
      ]
     },
     "execution_count": 45,
     "metadata": {},
     "output_type": "execute_result"
    }
   ],
   "source": [
    "from sklearn.metrics import f1_score\n",
    "\n",
    "f1_spore_model = f1_score(y_test, yhat)\n",
    "\n",
    "f1_spore_model"
   ]
  },
  {
   "cell_type": "code",
   "execution_count": 47,
   "id": "9f38c098",
   "metadata": {},
   "outputs": [
    {
     "name": "stdout",
     "output_type": "stream",
     "text": [
      "              precision    recall  f1-score   support\n",
      "\n",
      "           0       0.98      0.99      0.99      3214\n",
      "           1       0.60      0.29      0.39        86\n",
      "\n",
      "    accuracy                           0.98      3300\n",
      "   macro avg       0.79      0.64      0.69      3300\n",
      "weighted avg       0.97      0.98      0.97      3300\n",
      "\n"
     ]
    }
   ],
   "source": [
    "# Utiliza esta celda para reportar las métricas solicitadas utilizando classification_report\n",
    "\n",
    "from sklearn.metrics import classification_report\n",
    "\n",
    "print(classification_report(y_test, yhat))"
   ]
  },
  {
   "cell_type": "markdown",
   "id": "b9cd1c74",
   "metadata": {},
   "source": [
    "- Grafique la curva Receiver Operator Characteristic."
   ]
  },
  {
   "cell_type": "code",
   "execution_count": 59,
   "id": "e7246e5a",
   "metadata": {},
   "outputs": [
    {
     "data": {
      "image/png": "[encoded data removed]",
      "text/plain": [
       "<Figure size 432x288 with 1 Axes>"
      ]
     },
     "metadata": {
      "needs_background": "light"
     },
     "output_type": "display_data"
    }
   ],
   "source": [
    "# Utiliza esta celda para graficar la curva ROC\n",
    "\n",
    "from sklearn.metrics import roc_curve\n",
    "\n",
    "false_positive, true_positive, threshold = roc_curve(y_test, yhat_prob)\n",
    "\n",
    "plt.plot(false_positive, true_positive);\n",
    "plt.plot([0,1], ls=\"--\", lw=1, color=\"tomato\");\n",
    "plt.ylabel(\"Verdaderos Positivos\");\n",
    "plt.xlabel(\"Falsos Positivos\");"
   ]
  },
  {
   "cell_type": "code",
   "execution_count": 60,
   "id": "47a8004f",
   "metadata": {},
   "outputs": [
    {
     "data": {
      "text/plain": [
       "0.6427041576822333"
      ]
     },
     "execution_count": 60,
     "metadata": {},
     "output_type": "execute_result"
    }
   ],
   "source": [
    "from sklearn.metrics import roc_auc_score\n",
    "\n",
    "roc_auc_score(y_test, yhat)"
   ]
  },
  {
   "cell_type": "markdown",
   "id": "e49f77ee",
   "metadata": {},
   "source": [
    "- En base a los pasos, comente sobre el desempeño predictivo del modelo haciendo mención a todas las métricas calculadas y a la curva ROC."
   ]
  },
  {
   "cell_type": "markdown",
   "id": "c6c3809c",
   "metadata": {},
   "source": [
    "**Comentarios**"
   ]
  },
  {
   "cell_type": "code",
   "execution_count": null,
   "id": "95a17fc5",
   "metadata": {},
   "outputs": [],
   "source": [
    "Para este caso el modelo con los atributos estandarizados, podemos ver que tiene una exactitud promedio de un 0.9763,\n",
    "ademas al restarle .5 al m1_acc, podemos ver que este miodelo tine un desempeño de un 0.39"
   ]
  }
 ],
 "metadata": {
  "kernelspec": {
   "display_name": "Python 3 (ipykernel)",
   "language": "python",
   "name": "python3"
  },
  "language_info": {
   "codemirror_mode": {
    "name": "ipython",
    "version": 3
   },
   "file_extension": ".py",
   "mimetype": "text/x-python",
   "name": "python",
   "nbconvert_exporter": "python",
   "pygments_lexer": "ipython3",
   "version": "3.9.12"
  }
 },
 "nbformat": 4,
 "nbformat_minor": 5
}
